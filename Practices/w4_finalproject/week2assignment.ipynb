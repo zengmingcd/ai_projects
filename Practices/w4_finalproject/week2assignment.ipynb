{
 "cells": [
  {
   "cell_type": "code",
   "execution_count": null,
   "id": "82afe917-6529-4623-9940-b1ecc6fc5c4b",
   "metadata": {},
   "outputs": [],
   "source": [
    "import re\n",
    "import requests\n",
    "import sys\n",
    "import os\n",
    "from openai import AzureOpenAI\n",
    "import tiktoken\n",
    "from dotenv import load_dotenv\n",
    "load_dotenv()\n",
    "\n",
    "client = AzureOpenAI(\n",
    "  azure_endpoint = os.environ[\"azure_endpoint\"], \n",
    "  api_key=os.environ[\"api_key\"],  \n",
    "  api_version=\"2024-02-15-preview\"\n",
    ")\n"
   ]
  },
  {
   "cell_type": "code",
   "execution_count": null,
   "id": "78686611-4cc0-4ffc-bbe0-14a412aabd8c",
   "metadata": {},
   "outputs": [],
   "source": [
    "model = \"gpt-4\""
   ]
  },
  {
   "cell_type": "code",
   "execution_count": null,
   "id": "227b505b-a05e-4588-b05f-8c8802303451",
   "metadata": {},
   "outputs": [],
   "source": [
    "from pathlib import Path\n",
    "from pypdf import PdfReader\n",
    "\n",
    "def summarize_all_in_folder(folder):\n",
    "    rootdir = Path(folder)\n",
    "    # Return a list of regular files only, not directories\n",
    "    for f in rootdir.glob('**/*') :\n",
    "        print(\"providing summary for: \" + str(f))\n",
    "        if f.is_file():\n",
    "            reader = PdfReader(str(f))\n",
    "            text = \"\"\n",
    "            for page in reader.pages:\n",
    "                text += page.extract_text() + \"\\n\"\n",
    "            messages=[{\"role\":\"system\", \"content\":\"You are a helpful assistant. Please summerize the following prompts into one. Extract and provide the title of the paper at the beginning of each of the summary\"}]\n",
    "            for i in range(round(len(text)/4096)):\n",
    "                messages.append({\"role\":\"user\",\"content\":text[i*4096:(i+1)*4096]});\n",
    "            response = client.chat.completions.create(\n",
    "              model=model,\n",
    "              messages = messages)\n",
    "        \n",
    "            print(response.choices[0].message.content)\n",
    "            print(\"\\n\\n\")"
   ]
  },
  {
   "cell_type": "code",
   "execution_count": null,
   "id": "0b24d902-d053-4ec9-a276-ecffb9f34d20",
   "metadata": {},
   "outputs": [],
   "source": [
    "summarize_all_in_folder('math/')"
   ]
  },
  {
   "cell_type": "code",
   "execution_count": null,
   "id": "807289aa-c610-48f8-9fa8-f9d34c471e1c",
   "metadata": {},
   "outputs": [],
   "source": [
    "summarize_all_in_folder('physics/')"
   ]
  },
  {
   "cell_type": "code",
   "execution_count": null,
   "id": "f0844cba-de6c-4910-8bd4-4fa12ab78856",
   "metadata": {},
   "outputs": [],
   "source": [
    "summarize_all_in_folder('ai/')"
   ]
  },
  {
   "cell_type": "code",
   "execution_count": null,
   "id": "80dafe0e-25a5-4e7d-afd6-7937e5150198",
   "metadata": {},
   "outputs": [],
   "source": [
    "prompt = \"Classify the following articles into one of the following: categories: [politics, weather, sport, business, entertainment] give me a list at the end\"\n",
    "print(prompt)"
   ]
  },
  {
   "cell_type": "code",
   "execution_count": null,
   "id": "0cdc6f18-8ec7-4e29-b30b-1eabf4f2eed1",
   "metadata": {},
   "outputs": [],
   "source": [
    "import pandas as pd\n",
    "\n",
    "bbc_daily_articles = ['''Atlantic to get \\'extraordinary\\' hurricane season The North Atlantic could get as many as seven major hurricanes of category three strength or over this year, which would be more than double the usual number, the US weather agency NOAA has warned.Normally you'd expect three major hurricanes in a season.As many as 13 Atlantic hurricanes of category one or above are forecast for the period, which runs from June to November.Record high sea surface temperatures are partly to blame, as is a likely shift in regional weather patterns.While there's no evidence climate change is producing more hurricanes, it is making the most powerful ones more likely, and bringing heavier rainfall.\"This hurricane season is looking to be an extraordinary one,\" NOAA administrator Rick Spinrad said in a news conference.The recent weakening of the El Niño weather pattern – and the likely switch to La Niña conditions later in the year – creates more favourable atmospheric conditions for these storms in the Atlantic.In contrast to the Atlantic, NOAA had already predicted a \"below-normal\" hurricane season in the central Pacific region, where a move to La Niña has the opposite effect.Is climate change making hurricanes worse?What is El Niño and how does it change the weather?Oceans suffer from record-breaking year of heatOn average, the Atlantic basin – which includes the Atlantic Ocean, Caribbean Sea and Gulf of Mexico - experiences 14 named tropical storms a year, of which seven are hurricanes and three are major hurricanes.Tropical storms become hurricanes when they reach peak sustained wind speeds of 74mph (119km/h). 'Major' hurricanes (category three and above) are those reaching at least 111mph (178km/h).In total NOAA expects between 17 and 25 named tropical storms, of which between eight and 13 could become hurricanes and between four and seven could become major ones.The highest number of major hurricanes in a single Atlantic season is seven, seen in both 2005 and 2020. NOAA’s forecast suggests that 2024 could come close to that.Graphic showing the increasing number of category three, four and five hurricanes in the North Atlantic.The exact causes of individual storms is complex, but two key factors are behind the forecast.Firstly, there is the likely switch from El Niño to La Niña within the coming months, which helps these storms to grow more easily.And secondly, sea surface temperatures are much warmer than usual in the main hurricane development region in the tropical Atlantic.That often means more powerful hurricanes, because warmer waters provide more energy for storms to grow as they track westwards.\"All the ingredients are in place\" for an intense hurricane season, said Ken Graham, director of the US National Weather Service.Map of sea surface temperatures in April compared with long-term average. The tropical Atlantic is much warmer than usual.To draw attention to the way that global warming is making the highest intensity storms more likely, a recent study explored the possibility of creating a new category six level.This \"would alert the public that the strongest tropical cyclones that we are now experiencing are unprecedented and the reason for that [is] the warming of the surface oceans because of climate change,\" explains study lead author Michael Wehner, senior scientist at Berkeley Earth.Hurricane categories only take into account wind speeds. But these storms pose other major hazards, such as rainfall and coastal flooding, which are generally worsening with climate change, NOAA warned.Warmer air can hold more moisture, increasing the intensity of rainfall.Meanwhile, storm surges - the short-term increases to sea level from hurricanes - are now happening on top of a higher base. That is because sea levels are now higher, principally due to melting glaciers and warmer seas.\"Sea-level rise increases the total flood depth, making today’s hurricanes more damaging than prior year’s storms,\" says Andrew Dessler, a professor of atmospheric science at Texas A&M University.Given the active forecast, researchers stress the need for the public to be aware of the hazards these storms can pose - in particular \"rapid intensification events\", where hurricane wind speeds increase very quickly, and so can be especially dangerous.\"We are already seeing overall increases to the fastest rates at which Atlantic hurricanes intensify - which means that we are likely already seeing an increased risk of hazards for our coastal communities,\" explains Andra Garner, an assistant professor at Rowan University in the US.\"It can still be difficult to forecast rapid intensification of storms, which in turn escalates the challenges that arise when trying to protect our coastal communities.\"Graphics by Erwan Rivault and Muskeen LiddarThe North Atlantic could get as many as seven major hurricanes of category three strength or over this year, which would be more than double the usual number, the US weather agency NOAA has warned.Normally you'd expect three major hurricanes in a season.As many as 13 Atlantic hurricanes of category one or above are forecast for the period, which runs from June to November.Record high sea surface temperatures are partly to blame, as is a likely shift in regional weather patterns.While there's no evidence climate change is producing more hurricanes, it is making the most powerful ones more likely, and bringing heavier rainfall.\"This hurricane season is looking to be an extraordinary one,\" NOAA administrator Rick Spinrad said in a news conference.The recent weakening of the El Niño weather pattern – and the likely switch to La Niña conditions later in the year – creates more favourable atmospheric conditions for these storms in the Atlantic.In contrast to the Atlantic, NOAA had already predicted a \"below-normal\" hurricane season in the central Pacific region, where a move to La Niña has the opposite effect.Is climate change making hurricanes worse?What is El Niño and how does it change the weather?Oceans suffer from record-breaking year of heatOn average, the Atlantic basin – which includes the Atlantic Ocean, Caribbean Sea and Gulf of Mexico - experiences 14 named tropical storms a year, of which seven are hurricanes and three are major hurricanes.Tropical storms become hurricanes when they reach peak sustained wind speeds of 74mph (119km/h). 'Major' hurricanes (category three and above) are those reaching at least 111mph (178km/h).In total NOAA expects between 17 and 25 named tropical storms, of which between eight and 13 could become hurricanes and between four and seven could become major ones.The highest number of major hurricanes in a single Atlantic season is seven, seen in both 2005 and 2020. NOAA’s forecast suggests that 2024 could come close to that.Graphic showing the increasing number of category three, four and five hurricanes in the North Atlantic.The exact causes of individual storms is complex, but two key factors are behind the forecast.Firstly, there is the likely switch from El Niño to La Niña within the coming months, which helps these storms to grow more easily.And secondly, sea surface temperatures are much warmer than usual in the main hurricane development region in the tropical Atlantic.That often means more powerful hurricanes, because warmer waters provide more energy for storms to grow as they track westwards.\"All the ingredients are in place\" for an intense hurricane season, said Ken Graham, director of the US National Weather Service.Map of sea surface temperatures in April compared with long-term average. The tropical Atlantic is much warmer than usual.To draw attention to the way that global warming is making the highest intensity storms more likely, a recent study explored the possibility of creating a new category six level.This \"would alert the public that the strongest tropical cyclones that we are now experiencing are unprecedented and the reason for that [is] the warming of the surface oceans because of climate change,\" explains study lead author Michael Wehner, senior scientist at Berkeley Earth.Hurricane categories only take into account wind speeds. But these storms pose other major hazards, such as rainfall and coastal flooding, which are generally worsening with climate change, NOAA warned.Warmer air can hold more moisture, increasing the intensity of rainfall.Meanwhile, storm surges - the short-term increases to sea level from hurricanes - are now happening on top of a higher base. That is because sea levels are now higher, principally due to melting glaciers and warmer seas.\"Sea-level rise increases the total flood depth, making today’s hurricanes more damaging than prior year’s storms,\" says Andrew Dessler, a professor of atmospheric science at Texas A&M University.Given the active forecast, researchers stress the need for the public to be aware of the hazards these storms can pose - in particular \"rapid intensification events\", where hurricane wind speeds increase very quickly, and so can be especially dangerous.\"We are already seeing overall increases to the fastest rates at which Atlantic hurricanes intensify - which means that we are likely already seeing an increased risk of hazards for our coastal communities,\" explains Andra Garner, an assistant professor at Rowan University in the US.\"It can still be difficult to forecast rapid intensification of storms, which in turn escalates the challenges that arise when trying to protect our coastal communities.\"Graphics by Erwan Rivault and Muskeen Liddar''',\n",
    "                     '''Climate change: 'Uncharted territory' fears after record hot March Climate change could move \"into uncharted territory\" if temperatures don't fall by the end of the year, a leading scientist has told the BBC.The warning came as data showed last month was the world's warmest March on record, extending the run of monthly temperature records to 10 in a row.It's fuelled concerns among some that the world could be tipping into a new phase of even faster climate change.A weather system called El Niño is behind some of the recent heat.Temperatures should temporarily come down after El Niño peters out in coming months, but some scientists are worried they might not.ADVERTISEMENT\"By the end of the summer, if we're still looking at record breaking temperatures in the North Atlantic or elsewhere, then we really have kind of moved into uncharted territory,\" Gavin Schmidt, the director of Nasa's Goddard Institute for Space Studies, told BBC News.A simple guide to climate changeWhat are El Niño and La Niña, and how do they change the weather?March 2024 was 1.68C warmer than \"pre-industrial\" times - before humans started burning large amounts of fossil fuels - according to the EU's Copernicus Climate Change Service.Bar chart showing March temperatures, 1940-2024. March 2024 was the hottest March on record at 1.68C above the pre-industrial average (1850-1900), and there has been an increasing trend over time.For now, longer term warming trends are still pretty much consistent with expectations, and most researchers don't yet believe that the climate has entered a new phase.ADVERTISEMENTBut scientists are struggling to explain exactly why the end of 2023 was so warm.The March record was expected. El Niño, which began last June and peaked in December, has been adding heat to the warmth put into the atmosphere by the burning of fossil fuels, the main driver of high temperatures.But temperatures began breaking records by a particularly large margin around last September, and back then, El Niño was still developing, so can't explain all of the extra warmth.'Harder to predict the future'Dr Schmidt is concerned about what this means for predictions going forward.\"Our predictions failed quite dramatically for the specifics of 2023, and if previous statistics don't work, then it becomes much harder to say what's going to happen in the future,\" he said.\"We're still trying to understand why the situation changed so dramatically in the middle of last year, and how long this situation will continue, whether it is a phase shift or whether it's a blip in long-term climate trends,\" agrees Dr Samantha Burgess from Copernicus.The current El Niño is now waning, and will likely end in the next couple of months.Four maps showing different stages of El Niño and La Niña. La Niña (October 2022) is marked by cool waters in the Pacific. El Niño conditions were emerging by May 2023 with warm waters in the East Pacific, and El Niño had strengthened by October 2023 as warm waters spread. In March 2024, waters had begun to cool as El Niño weakened.While scientists aren't sure exactly how conditions in the Pacific will evolve, current predictions suggest it could be replaced by a full La Niña cool phase later this year.That cooling of the sea surface would normally see a temporary drop in global air temperatures, but it remains to be seen exactly how this will evolve.\"We're definitely seeing a weakening of El Niño, but the question is, where will we end up?\" says Michelle L'Heureux, a scientist with the NOAA climate prediction centre.But scientists are certain about one thing: the way to stop the world warming is to rapidly cut emissions of planet-warming gases.\"We have this window in the coming years to try and mitigate the impacts of climate change, by cutting emissions,\" says Dr Angélique Melet from Mercator Ocean International.\"I do understand the challenges but it's also true that if we don't act, we are committing ourselves towards a future where 2023 will be the new normal.\"\"How fast will that happen? It depends on us.\"Graphics by Erwan Rivault and Mark Poynting''',\n",
    "                     '''What are El Niño and La Niña, and how do they change the weather? The El Niño weather phase, which began in summer 2023, has now come to an end, the Australian Bureau of Meteorology says.It helped to boost global temperatures to record levels in recent months, on top of the long-term warming caused by humans.What is El Niño?El Niño is part of the natural climate phenomenon called the El Niño Southern Oscillation (ENSO).It has two opposite states: El Niño and La Niña, both of which significantly alter global weather.El Niño can be identified by a number of different measurements, including:warmer-than-usual sea surface temperatures in the tropical eastern Pacificabove-normal atmospheric pressure at Darwin, Australia (western Pacific), and below-normal atmospheric pressure at Tahiti, French Polynesia (central Pacific)Four maps showing different stages of El Niño and La Niña. La Niña (October 2022) is marked by cool waters in the Pacific. El Niño conditions were emerging by May 2023 with warm waters in the East Pacific, and El Niño had strengthened by October 2023 as warm waters spread. In March 2024, waters had begun to cool as El Niño weakened. [April 2024]In \"neutral\" conditions, surface water in the Pacific Ocean is cooler in the east and warmer in the west.The \"trade winds\" tend to blow east-to-west, and heat from the Sun progressively warms the waters as they move in this direction.During El Niño events, these winds weaken or reverse, sending warm surface waters eastwards instead.Infographic showing how in El Niño conditions, warmer ocean surface water tends to be further east than usual, on an area of the Pacific ocean stretching from Australia and Papua New Guinea to the west coast of South and Central America.In La Niña periods, the normal east-to-west winds become stronger, pushing warmer waters further west.This causes cold water to rise up - or \"upwell\" - from the depths of the ocean, meaning sea surface temperatures are cooler than usual in the east Pacific.Infographic showing how in La Niña conditions, warmer ocean surface water tends to be further west than usual, on an area of the Pacific ocean stretching from Australia and Papua New Guinea to the west coast of South and Central America.The phenomenon was first observed by Peruvian fisherman in the 1600s, who noticed that warm waters seemed to peak near the Americas in December.They nicknamed it \"El Niño de Navidad\" - Christ Child in Spanish.How do El Niño and La Niña change the weather?Not every event is the same, and the consequences vary from region to region.However, scientists have observed some common effects:TemperaturesGlobal temperatures typically increase during an El Niño episode, and fall during La Niña.El Niño means warmer water spreads further, and stays closer to the surface. This releases more heat into the atmosphere, creating wetter and warmer air.But the regional effects are complicated, and some places may be both warmer and cooler than expected at different points in the year.The hottest year on record, 2023, was boosted by El Niño conditions, on top of long-term human-caused climate change, and that warmth continued into 2024.Typical effects of El Nino events on temperature patterns for each region. Key trends include warming in South America, southeast Asia and southern Africa. Cooling in parts of North America. [June 2023]Between 2020 and 2022, the world experienced an unusually long period of La Niña conditions, which helped keep a lid on global temperatures.How UK and Western European temperatures respond to El Niño is complicated and uncertain. It could mean colder than average winters, for example, but that depends how El Niño unfolds.El Niño ends with uncertainty over cooler futureA really simple guide to climate changeFour ways climate change is affecting weatherChanges to rainfallDuring El Niño events, the warmer water pushes the Pacific jet stream's strong air currents further to the south and the east.This brings wetter weather to southern USA and the Gulf of Mexico.Tropical regions like southeast Asia, Australia and central Africa typically experience drier conditions.Under La Niña, the effect is reversed.Typical effects of El Nino events on precipitation patterns for each region. Key trends are drying in many equatorial regions (northern South America, central Africa, southeast Asia and Australia). Southern USA generally becomes wetter than normal. [June 2023]Tropical stormsEl Niño also affects atmospheric circulation patterns, which means there are generally more tropical storms in the tropical Pacific, but fewer in the tropical Atlantic, including the southern US.During La Niña, the reverse is typically true.Carbon dioxide (CO2) levelsScientists have also observed that CO2 levels in the atmosphere increase during El Niño events, possibly as a result of warmer and drier conditions in tropical regions.If plants grow less quickly due to drought, they absorb less CO2, while more wildfires in places like South Asia mean more CO2 is released.Why do the El Niño and La Niña climate patterns matter?The extreme weather events worsened by El Niño and La Niña affect infrastructure, food and energy systems around the world.For example, when less cold water comes to the surface off the west coast of South America during El Niño events, fewer nutrients rise from the bottom of the ocean.That means there is less food available for marine species like squid and salmon, in turn reducing stocks for South American fishing communities.Getty Images A fisherman carries freshly caught tuna at La Poza beach in Manta, Ecuador's largest seaportGetty ImagesFishing stocks can be affected by the effects of El NiñoThe droughts and flooding caused by the extreme 2015-16 El Niño event affected the food security of more than 60 million people, according to the UN Food and Agricultural Organisation.A recent study suggested that El Niño events significantly reduce global economic growth, an effect which could intensify in the future.How often do El Niño and La Niña episodes happen?El Niño and La Niña episodes typically occur every two to seven years, and usually last nine to 12 months.They don't necessarily alternate: La Niña events are less common than El Niño episodes.Is climate change affecting El Niño/La Niña?In 2021, the UN's climate scientists, the IPCC, said the ENSO events which have occurred since 1950 are stronger than those observed between 1850 and 1950.But it also said that tree rings and other historical evidence show there have been variations in the frequency and strength of these episodes since the 1400s.The IPCC concluded there is no clear evidence that climate change has affected these events.Some climate models suggest that El Niño events will become more frequent and more intense as a result of global warming - potentially boosting temperatures further - but this is not certain.''']\n",
    "\n",
    "bbc_daily_articles_highlights = ['''The El Niño weather phase, which began in summer 2023, has now come to an end, the Australian Bureau of Meteorology says. It helped to boost global temperatures to record levels in recent months, on top of the long-term warming caused by humans..''',\n",
    "                                '''Climate change could move \"into uncharted territory\" if temperatures don't fall by the end of the year, a leading scientist has told the BBC. The warning came as data showed last month was the world's warmest March on record, extending the run of monthly temperature records to 10 in a row. It's fuelled concerns among some that the world could be tipping into a new phase of even faster climate change.''',\n",
    "                                '''The North Atlantic could get as many as seven major hurricanes of category three strength or over this year, which would be more than double the usual number, the US weather agency NOAA has warned. Normally you'd expect three major hurricanes in a season. As many as 13 Atlantic hurricanes of category one or above are forecast for the period, which runs from June to November.''' \n",
    "                                ]\n",
    "bbc_df = pd.DataFrame({\"articles\":bbc_daily_articles, \"highligths\":bbc_daily_articles_highlights})\n",
    "\n",
    "bbc_df.head()   "
   ]
  },
  {
   "cell_type": "code",
   "execution_count": null,
   "id": "a05f460c-3baf-4510-9a73-257d5fd3ea34",
   "metadata": {},
   "outputs": [],
   "source": [
    "#Setting a few additional, typical parameters during API Call\n",
    "\n",
    "response = client.chat.completions.create(\n",
    "       model=model,\n",
    "  messages = [{\"role\":\"system\", \"content\":prompt},\n",
    "               {\"role\":\"user\",\"content\":bbc_daily_articles[0]},\n",
    "             {\"role\":\"user\",\"content\":bbc_daily_articles[1]},\n",
    "             {\"role\":\"user\",\"content\":bbc_daily_articles[2]},\n",
    "             ])\n",
    "\n",
    "response.choices[0].message.content"
   ]
  },
  {
   "cell_type": "code",
   "execution_count": null,
   "id": "a0afd1b6-fbad-4da9-a24e-05bdf32f9f92",
   "metadata": {},
   "outputs": [],
   "source": [
    "\n",
    "#Setting a few additional, typical parameters during API Call\n",
    "reader = PdfReader(\"ai/2405.15485v1.pdf\")\n",
    "text = \"\"\n",
    "for page in reader.pages:\n",
    "    text += page.extract_text() + \"\\n\"\n",
    "messages = [{\"role\":\"system\", \"content\":\"you are a helpbot for an ai paper. please process the following prompts which are sections of the paper. once you've read the paper, please only respond with what you know from the paper. answer any unrelated questions with i dont know.\"}]\n",
    "for i in range(round(len(text)/4096)):\n",
    "                messages.append({\"role\":\"user\",\"content\":text[i*4096:(i+1)*4096]});  \n",
    "messages.append({\"role\":\"user\",\"content\":\"what is the color of the sky?\"});\n",
    "response = client.chat.completions.create(\n",
    "       model=model,\n",
    "  messages = messages)\n",
    "\n",
    "response.choices[0].message.content"
   ]
  },
  {
   "cell_type": "code",
   "execution_count": null,
   "id": "c574a8cc-c3ea-45fb-b911-a04267733ced",
   "metadata": {},
   "outputs": [],
   "source": []
  }
 ],
 "metadata": {
  "kernelspec": {
   "display_name": "Python 3 (ipykernel)",
   "language": "python",
   "name": "python3"
  },
  "language_info": {
   "codemirror_mode": {
    "name": "ipython",
    "version": 3
   },
   "file_extension": ".py",
   "mimetype": "text/x-python",
   "name": "python",
   "nbconvert_exporter": "python",
   "pygments_lexer": "ipython3",
   "version": "3.11.7"
  }
 },
 "nbformat": 4,
 "nbformat_minor": 5
}
