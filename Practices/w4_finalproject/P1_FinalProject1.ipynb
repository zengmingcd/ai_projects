{
 "cells": [
  {
   "cell_type": "markdown",
   "metadata": {},
   "source": [
    "# Final Project: Company Profile Risk Assessment.\n",
    "\n",
    "## Business Logic:\n",
    "1. Input the company name and risk type(operator\\market\\legal...)\n",
    "2. Using RAG to do the web search on sec.gov in order to get the risk part in the newest 10-Q report.\n",
    "3. Embedding the content.\n",
    "4. Store it in the vector storage\n",
    "5. Using QnA to answer the question.\n",
    "6. If can not find the content match the risk type, respond I don't know."
   ]
  },
  {
   "cell_type": "markdown",
   "metadata": {},
   "source": [
    "### Step1: Create Services\n",
    "1. Create AI Language Service in Azure\n",
    "2. Create Azure storage account and Blob container, add role: Storage Blob Data Contributor"
   ]
  },
  {
   "cell_type": "markdown",
   "metadata": {},
   "source": [
    "### Step2: Setup environment\n",
    "1. pip install semantic-kernel\n",
    "2. pip install azure-storage-blob azure-identity\n",
    "3. Setup environment in code."
   ]
  },
  {
   "cell_type": "code",
   "execution_count": null,
   "metadata": {},
   "outputs": [],
   "source": [
    "import os\n",
    "from dotenv import load_dotenv\n",
    "load_dotenv()\n"
   ]
  },
  {
   "cell_type": "markdown",
   "metadata": {},
   "source": [
    "### Step2: Extract content from report\n",
    "1. Download newest 10-Q report of Microsoft from sec.gov. \n",
    "2. Path: Practices/w4_finalproject/resources/10-Q.html\n",
    "3. Extract content in <span> tag from the html file."
   ]
  },
  {
   "cell_type": "code",
   "execution_count": null,
   "metadata": {},
   "outputs": [],
   "source": [
    "# Deal as html file\n",
    "from bs4 import BeautifulSoup\n",
    "\n",
    "htmlFile = \"resources/10-Q.html\"\n",
    "\n",
    "contentList = []\n",
    "\n",
    "with open(htmlFile) as f:\n",
    "    htmlContent = f.read()\n",
    "    soup = BeautifulSoup(htmlContent, 'html.parser')\n",
    "\n",
    "    myContent = soup.find_all('span')\n",
    "    for content in myContent:\n",
    "        contentText = content.text\n",
    "        if (len(contentText) > 3):\n",
    "            contentList.append(content.text)\n",
    "            print(content.text)\n",
    "\n",
    "print(contentList)\n",
    "print(len(contentList))"
   ]
  },
  {
   "cell_type": "markdown",
   "metadata": {},
   "source": [
    "### Step2: Extract content from report\n",
    "1. Download newest 10-Q report of Microsoft from sec.gov. \n",
    "2. Path: Practices/w4_finalproject/resources/10-Q.pdf\n",
    "3. upload to blob storage\n",
    "4. Extract content with document intelligence."
   ]
  },
  {
   "cell_type": "code",
   "execution_count": null,
   "metadata": {},
   "outputs": [],
   "source": [
    "from azure.storage.blob import BlobServiceClient\n",
    "\n",
    "pdfFile = \"resources/10-Q.pdf\"\n",
    "blobName = \"Microsoft10Q.pdf\"\n",
    "accountURL = os.environ.get('BLOB_ACCESS_URL')\n",
    "containerName = os.environ.get('BLOB_CONTAINER_NAME')\n",
    "connStr = os.environ.get('BLOB_CONN_STR')\n",
    "\n",
    "\n",
    "blobServiceClient = BlobServiceClient.from_connection_string(connStr)\n",
    "\n",
    "containerClient = blobServiceClient.get_container_client(container=containerName)\n",
    "\n",
    "print(\"\\nUploading to Azure Storage as blob:\\n\\t\" + pdfFile)\n",
    "\n",
    "# with open(pdfFile, \"rb\") as data:\n",
    "#     blboClient = containerClient.upload_blob(name=blobName, data=data)"
   ]
  },
  {
   "cell_type": "markdown",
   "metadata": {},
   "source": [
    "### Step3: Embedding the content"
   ]
  },
  {
   "cell_type": "code",
   "execution_count": null,
   "metadata": {},
   "outputs": [],
   "source": [
    "from azure.ai.formrecognizer import DocumentAnalysisClient\n",
    "from azure.core.credentials import AzureKeyCredential\n",
    "\n",
    "diEndpoint = os.environ.get(\"AZURE_DOCUMENT_INTELLIGENCE_ENDPOINT\")\n",
    "diApiKey = os.environ.get(\"AZURE_DOCUMENT_INTELLIGENCE_KEY\")\n",
    "\n",
    "documentAnalysisClient = DocumentAnalysisClient(endpoint=diEndpoint, credential=AzureKeyCredential(diApiKey))\n",
    "print(accountURL, containerName, blobName)\n",
    "blob_url = accountURL + \"/\" + containerName + \"/\" + blobName\n",
    "print(blob_url)\n",
    "\n",
    "poller = documentAnalysisClient.begin_analyze_document_from_url(\"prebuilt-document\", blob_url)\n",
    "\n",
    "result = poller.result()\n",
    "\n",
    "extracted_text = \"\"\n",
    "\n",
    "for page in result.pages:\n",
    "    for line in page.lines:\n",
    "        extracted_text += line.content + \"\\n\"\n",
    "\n",
    "print(extracted_text)"
   ]
  },
  {
   "cell_type": "markdown",
   "metadata": {},
   "source": [
    "### Step4: Store in the vector storage"
   ]
  },
  {
   "cell_type": "markdown",
   "metadata": {},
   "source": [
    "### Step5: Set question & Search from the vector storage."
   ]
  },
  {
   "cell_type": "code",
   "execution_count": null,
   "metadata": {},
   "outputs": [],
   "source": [
    "myQuestion = \"Are there any risks in the company?\""
   ]
  },
  {
   "cell_type": "markdown",
   "metadata": {},
   "source": [
    "### Step6: Invoke OpenAI  "
   ]
  },
  {
   "cell_type": "code",
   "execution_count": null,
   "metadata": {},
   "outputs": [],
   "source": [
    "import openai\n",
    "openai.api_key = os.environ.get('OPENAI_API_KEY')\n",
    "\n",
    "sourceData = ' '.join(contentList)\n",
    "\n",
    "print(sourceData)\n",
    "lenOfSourceData = len(sourceData)\n",
    "print(lenOfSourceData)\n",
    "\n",
    "chunk_size = 2000\n",
    "chunks = [sourceData[i:i+chunk_size] for i in range(0, lenOfSourceData,chunk_size-100)]\n",
    "finalAnswerList = []\n",
    "\n",
    "for chunk in chunks:\n",
    "    systemPrompt = \"You are a helpful assistant. You can answer the question base on the specific data. Use one sentence to answer the question. If you can not find the content match the question, please respond '''I don't know.'''\"\n",
    "    userPrompt = \"Base on the following data: \" + chunk + \"\\n\\nAnswer the question:\" + myQuestion\n",
    "    print(\"User:\", userPrompt)\n",
    "\n",
    "    response = openai.chat.completions.create(\n",
    "        model=\"gpt-4o\",\n",
    "        messages=[\n",
    "            {\"role\":\"system\", \"content\":systemPrompt},\n",
    "            {\"role\":\"user\", \"content\":userPrompt}\n",
    "        ]\n",
    "    )\n",
    "\n",
    "    answer = response.choices[0].message.content.strip()\n",
    "    print(\"Answer:\", answer)\n",
    "    if answer!=\"I don't know.\":\n",
    "        finalAnswerList.append(answer)\n",
    "\n",
    "finalAnswer = ' '.join(finalAnswerList)\n",
    "\n",
    "print(\"All I know:\", finalAnswer)\n",
    "\n",
    "response = openai.chat.completions.create(\n",
    "    model=\"gpt-3.5-turbo-1106\",\n",
    "    messages=[\n",
    "            {\"role\":\"system\", \"content\":\"You are a helpful assistant.\"},\n",
    "            {\"role\":\"user\", \"content\":\"Summarize the following text:\\n\\n\" + finalAnswer}\n",
    "        ]\n",
    ")\n",
    "\n",
    "summarized_answer = response.choices[0].message.content.strip()\n",
    "\n",
    "print(\"Summarized:\", summarized_answer)"
   ]
  }
 ],
 "metadata": {
  "kernelspec": {
   "display_name": "ai_learning",
   "language": "python",
   "name": "python3"
  },
  "language_info": {
   "codemirror_mode": {
    "name": "ipython",
    "version": 3
   },
   "file_extension": ".py",
   "mimetype": "text/x-python",
   "name": "python",
   "nbconvert_exporter": "python",
   "pygments_lexer": "ipython3",
   "version": "3.11.7"
  }
 },
 "nbformat": 4,
 "nbformat_minor": 2
}
