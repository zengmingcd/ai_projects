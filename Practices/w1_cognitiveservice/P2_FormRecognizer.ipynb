{
 "cells": [
  {
   "cell_type": "markdown",
   "metadata": {},
   "source": [
    "# Practice: From Recognizer\n",
    "\n",
    "## Custom Form Recognizer model\n",
    "\n",
    "- Provide exported project file \n",
    "\n",
    "- Provide code to call your model with sample data  \n",
    "\n",
    "- Optional: Provide code to create custom model \n",
    "\n",
    "- Build and train a custom classifier - Document Intelligence (formerly Form Recognizer) \n",
    "\n",
    "  - Data Source: 5 arxiv paper  \n",
    "\n",
    "  - Extract: Name of the paper, author list, abstract, number of pages \n",
    "\n",
    "  - Optional: classify content page vs reference page "
   ]
  },
  {
   "cell_type": "markdown",
   "metadata": {},
   "source": [
    "### Phase 1\n",
    "1. Create Storage Account in Azure\n",
    "2. Create Container to store the pdf resources\n",
    "3. Upload all pdf resources"
   ]
  },
  {
   "cell_type": "markdown",
   "metadata": {},
   "source": [
    "### Phase 2\n",
    "1. Create a Document Intelligence Service.\n",
    "2. Create a Custom Extraction Model in Document Intelligence Studio. This will link pdf resources to the project.\n",
    "3. Label the data in the Document Intelligence Studio.\n",
    "4. Train the model in the Document Intelligence Studio.\n",
    "5. Test the model in the Document Intelligence Studio."
   ]
  }
 ],
 "metadata": {
  "language_info": {
   "name": "python"
  }
 },
 "nbformat": 4,
 "nbformat_minor": 2
}
